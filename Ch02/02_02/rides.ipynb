{
 "cells": [
  {
   "cell_type": "code",
   "execution_count": 1,
   "metadata": {},
   "outputs": [],
   "source": [
    "from sqlalchemy import create_engine\n",
    "import pandas as pd"
   ]
  },
  {
   "cell_type": "markdown",
   "metadata": {},
   "source": [
    "## Load Data\n",
    "We have two tables in the database:\n",
    "- rides with ride data\n",
    "- stations with station data (lng/lat)"
   ]
  },
  {
   "cell_type": "code",
   "execution_count": 13,
   "metadata": {},
   "outputs": [
    {
     "ename": "TypeError",
     "evalue": "Engine.connect() got an unexpected keyword argument 'read_only'",
     "output_type": "error",
     "traceback": [
      "\u001b[0;31m---------------------------------------------------------------------------\u001b[0m",
      "\u001b[0;31mTypeError\u001b[0m                                 Traceback (most recent call last)",
      "Cell \u001b[0;32mIn[13], line 21\u001b[0m\n\u001b[1;32m      1\u001b[0m sql \u001b[38;5;241m=\u001b[39m \u001b[38;5;124m'''\u001b[39m\n\u001b[1;32m      2\u001b[0m \u001b[38;5;124mSELECT\u001b[39m\n\u001b[1;32m      3\u001b[0m \u001b[38;5;124m\tr.trip_id,\u001b[39m\n\u001b[0;32m   (...)\u001b[0m\n\u001b[1;32m     19\u001b[0m \u001b[38;5;124m;\u001b[39m\n\u001b[1;32m     20\u001b[0m \u001b[38;5;124m'''\u001b[39m\n\u001b[0;32m---> 21\u001b[0m \u001b[38;5;28;01mwith\u001b[39;00m \u001b[43mcreate_engine\u001b[49m\u001b[43m(\u001b[49m\u001b[38;5;124;43m'\u001b[39;49m\u001b[38;5;124;43mduckdb:///../../data/bikes.ddb\u001b[39;49m\u001b[38;5;124;43m'\u001b[39;49m\u001b[43m)\u001b[49m\u001b[38;5;241;43m.\u001b[39;49m\u001b[43mconnect\u001b[49m\u001b[43m(\u001b[49m\u001b[43mread_only\u001b[49m\u001b[38;5;241;43m=\u001b[39;49m\u001b[38;5;28;43;01mFalse\u001b[39;49;00m\u001b[43m)\u001b[49m \u001b[38;5;28;01mas\u001b[39;00m conn:\n\u001b[1;32m     22\u001b[0m   df \u001b[38;5;241m=\u001b[39m pd\u001b[38;5;241m.\u001b[39mread_sql(sql, conn)\n\u001b[1;32m     23\u001b[0m   \u001b[38;5;28mprint\u001b[39m(\u001b[38;5;124m'\u001b[39m\u001b[38;5;124msize:\u001b[39m\u001b[38;5;124m'\u001b[39m, \u001b[38;5;28mlen\u001b[39m(df))\n",
      "\u001b[0;31mTypeError\u001b[0m: Engine.connect() got an unexpected keyword argument 'read_only'"
     ]
    }
   ],
   "source": [
    "sql = '''\n",
    "SELECT\n",
    "\tr.trip_id,\n",
    "\tr.bikeid AS bike_id,\n",
    "\tr.subscriber_type,\n",
    "\tr.checkout_time,\n",
    "\tr.duration_minutes,\n",
    "\tr.start_station_id,\n",
    "\tr.start_station_name,\n",
    "\ts.latitude AS start_latutide,\n",
    "\ts.longitude AS start_longitude,\n",
    "\tr.end_station_id,\n",
    "\te.latitude AS end_latutide,\n",
    "\te.longitude AS end_longitude\n",
    "FROM \n",
    "\trides r \n",
    "\t\tLEFT JOIN stations s ON r.start_station_id == s.station_id\n",
    "\t\tLEFT JOIN stations e ON r.end_station_id == e.station_id\n",
    ";\n",
    "'''\n",
    "with create_engine('duckdb:///../../data/bikes.ddb').connect() as conn:\n",
    "  df = pd.read_sql(sql, conn)\n",
    "  print('size:', len(df))"
   ]
  },
  {
   "cell_type": "markdown",
   "metadata": {},
   "source": [
    "## Clean Data\n"
   ]
  },
  {
   "cell_type": "code",
   "execution_count": 12,
   "metadata": {},
   "outputs": [
    {
     "name": "stdout",
     "output_type": "stream",
     "text": [
      "size: 603770\n"
     ]
    }
   ],
   "source": [
    "mask = (\n",
    "    (df['duration_minutes'] > 0) &\n",
    "    ~pd.isnull(df['bike_id']) &\n",
    "    ~pd.isnull(df['start_station_id']) &\n",
    "    ~pd.isnull(df['end_station_id'])\n",
    ")\n",
    "df = df[mask]\n",
    "\n",
    "df['bike_id'] = df['bike_id'].astype('int64')\n",
    "df['start_station_id'] = df['start_station_id'].astype('int64')\n",
    "df['end_station_id'] = df['end_station_id'].astype('int64')\n",
    "\n",
    "print('size:', len(df))"
   ]
  },
  {
   "cell_type": "markdown",
   "metadata": {},
   "source": [
    "## Run Calculations"
   ]
  },
  {
   "cell_type": "code",
   "execution_count": 4,
   "metadata": {},
   "outputs": [
    {
     "name": "stdout",
     "output_type": "stream",
     "text": [
      "longest duration\n"
     ]
    },
    {
     "data": {
      "text/plain": [
       "bike_id             5089\n",
       "duration_minutes    3914\n",
       "Name: 409, dtype: int64"
      ]
     },
     "execution_count": 4,
     "metadata": {},
     "output_type": "execute_result"
    }
   ],
   "source": [
    "print('longest duration')\n",
    "(\n",
    "    df.groupby('bike_id', as_index=False)\n",
    "    ['duration_minutes'].sum()\n",
    "    .iloc[-1]\n",
    ")"
   ]
  },
  {
   "cell_type": "markdown",
   "metadata": {},
   "source": []
  }
 ],
 "metadata": {
  "kernelspec": {
   "display_name": "Python 3",
   "language": "python",
   "name": "python3"
  },
  "language_info": {
   "codemirror_mode": {
    "name": "ipython",
    "version": 3
   },
   "file_extension": ".py",
   "mimetype": "text/x-python",
   "name": "python",
   "nbconvert_exporter": "python",
   "pygments_lexer": "ipython3",
   "version": "3.12.5"
  }
 },
 "nbformat": 4,
 "nbformat_minor": 2
}
